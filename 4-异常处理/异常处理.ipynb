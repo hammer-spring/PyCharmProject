{
 "cells": [
  {
   "cell_type": "markdown",
   "metadata": {},
   "source": [
    "# 异常\n",
    "- 广义上的错误分为错误和异常\n",
    "- 错误指的是可以人为避免\n",
    "- 异常是指在语法逻辑正确的前提下，出现的问题 \n",
    "- 在python里，异常是一个类，可以处理和使用\n",
    "\n",
    "# 异常的分类\n",
    "AssertError 断言语句（assert）失败\n",
    "AttributeError 尝试访问未知的对象属性\n",
    "EOFError 用户输入文件末尾标志EOF（Ctrl+d）\n",
    "FloatingPointError 浮点计算错误\n",
    "GeneratorExit generator.close()方法被调用的时候\n",
    "ImportError 导入模块失败的时候\n",
    "IndexError 索引超出序列的范围\n",
    "KeyError 字典中查找一个不存在的关键字\n",
    "KeyboardInterrupt 用户输入中断键（Ctrl+c）\n",
    "MemoryError 内存溢出（可通过删除对象释放内存）\n",
    "NameError 尝试访问一个不存在的变量\n",
    "NotImplementedError 尚未实现的方法\n",
    "OSError 操作系统产生的异常（例如打开一个不存在的文件）\n",
    "OverflowError 数值运算超出最大限制\n",
    "ReferenceError 弱引用（weak reference）试图访问一个已经被垃圾回收机制回收了的对象\n",
    "RuntimeError 一般的运行时错误\n",
    "StopIteration 迭代器没有更多的值\n",
    "SyntaxError Python的语法错误\n",
    "IndentationError 缩进错误\n",
    "TabError Tab和空格混合使用\n",
    "SystemError Python编译器系统错误\n",
    "SystemExit Python编译器进程被关闭\n",
    "TypeError 不同类型间的无效操作\n",
    "UnboundLocalError 访问一个未初始化的本地变量（NameError的子类）\n",
    "UnicodeError Unicode相关的错误（ValueError的子类）\n",
    "UnicodeEncodeError Unicode编码时的错误（UnicodeError的子类）\n",
    "UnicodeDecodeError Unicode解码时的错误（UnicodeError的子类）\n",
    "UnicodeTranslateError Unicode转换时的错误（UnicodeError的子类）\n",
    "ValueError 传入无效的参数\n",
    "ZeroDivisionError 除数为零"
   ]
  },
  {
   "cell_type": "code",
   "execution_count": null,
   "metadata": {},
   "outputs": [],
   "source": []
  }
 ],
 "metadata": {
  "kernelspec": {
   "display_name": "Python 2",
   "language": "python",
   "name": "python2"
  },
  "language_info": {
   "codemirror_mode": {
    "name": "ipython",
    "version": 2
   },
   "file_extension": ".py",
   "mimetype": "text/x-python",
   "name": "python",
   "nbconvert_exporter": "python",
   "pygments_lexer": "ipython2",
   "version": "2.7.6"
  }
 },
 "nbformat": 4,
 "nbformat_minor": 0
}
